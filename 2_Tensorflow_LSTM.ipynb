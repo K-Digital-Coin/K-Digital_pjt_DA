{
  "cells": [
    {
      "cell_type": "code",
      "execution_count": 6,
      "metadata": {
        "id": "36r88lYgIqo1"
      },
      "outputs": [],
      "source": [
        "import os\n",
        "import pandas as pd\n",
        "import numpy as np\n",
        "import matplotlib.pyplot as plt\n",
        "from google.colab import drive\n",
        "\n",
        "# import tensorflow\n",
        "import tensorflow as tf\n",
        "from tensorflow import keras\n",
        "\n",
        "# import keras\n",
        "from keras.callbacks import EarlyStopping\n",
        "from tensorflow.python.keras.models import load_model\n",
        "\n",
        "# import sklearn\n",
        "from sklearn.preprocessing import MinMaxScaler\n",
        "from sklearn.metrics import mean_squared_error"
      ]
    },
    {
      "cell_type": "markdown",
      "source": [
        "# 1. Create Data Set"
      ],
      "metadata": {
        "id": "_7UpxNrSNA9v"
      }
    },
    {
      "cell_type": "markdown",
      "source": [
        "## 1-1. Google Drive connect and files load"
      ],
      "metadata": {
        "id": "Il7VFvwgVGHS"
      }
    },
    {
      "cell_type": "code",
      "source": [
        "drive.mount('/content/drive') # 코랩에서 구글 드라이브에 마운트"
      ],
      "metadata": {
        "colab": {
          "base_uri": "https://localhost:8080/"
        },
        "id": "o5MGxRf2IsxE",
        "outputId": "6a999fa7-630e-4e71-dd3a-867b3294c1bf"
      },
      "execution_count": 4,
      "outputs": [
        {
          "output_type": "stream",
          "name": "stdout",
          "text": [
            "Mounted at /content/drive\n"
          ]
        }
      ]
    },
    {
      "cell_type": "code",
      "source": [
        "drive_path = '/content/drive/MyDrive/PNUProject/AIProject/data'\n",
        "file_list = os.listdir(drive_path)\n",
        "file_list"
      ],
      "metadata": {
        "colab": {
          "base_uri": "https://localhost:8080/"
        },
        "id": "5lDWrLSgS8bb",
        "outputId": "804b3c7f-1848-4f1b-9f7f-91e2691681e9"
      },
      "execution_count": 64,
      "outputs": [
        {
          "output_type": "execute_result",
          "data": {
            "text/plain": [
              "['ma.csv', 'macd.csv', 'rsi.csv', 'bb.csv', 'historydata_v1.csv']"
            ]
          },
          "metadata": {},
          "execution_count": 64
        }
      ]
    },
    {
      "cell_type": "code",
      "source": [
        "df_list = []\n",
        "for i in range(0,len(file_list),1):\n",
        "  path = drive_path + '/' + file_list[i]\n",
        "  data = pd.read_csv(path, encoding='cp949')\n",
        "  path = ''\n",
        "  df_list.append(data)"
      ],
      "metadata": {
        "id": "vyCInySwVYA8"
      },
      "execution_count": 65,
      "outputs": []
    },
    {
      "cell_type": "code",
      "source": [
        "df_list[1].tail()"
      ],
      "metadata": {
        "colab": {
          "base_uri": "https://localhost:8080/",
          "height": 206
        },
        "id": "PuLl2mKaXWT5",
        "outputId": "afaa43a2-e661-496a-d642-fa1c51d9a5de"
      },
      "execution_count": 74,
      "outputs": [
        {
          "output_type": "execute_result",
          "data": {
            "text/plain": [
              "          candel_date_time   MACD\n",
              "19995  2023-02-20 11:00:00 -89300\n",
              "19996  2023-02-20 12:00:00 -85000\n",
              "19997  2023-02-20 13:00:00 -76800\n",
              "19998  2023-02-20 14:00:00 -72400\n",
              "19999  2023-02-20 15:00:00 -68100"
            ],
            "text/html": [
              "\n",
              "  <div id=\"df-3950a803-e670-4e5d-a1e3-be64a10bcca9\">\n",
              "    <div class=\"colab-df-container\">\n",
              "      <div>\n",
              "<style scoped>\n",
              "    .dataframe tbody tr th:only-of-type {\n",
              "        vertical-align: middle;\n",
              "    }\n",
              "\n",
              "    .dataframe tbody tr th {\n",
              "        vertical-align: top;\n",
              "    }\n",
              "\n",
              "    .dataframe thead th {\n",
              "        text-align: right;\n",
              "    }\n",
              "</style>\n",
              "<table border=\"1\" class=\"dataframe\">\n",
              "  <thead>\n",
              "    <tr style=\"text-align: right;\">\n",
              "      <th></th>\n",
              "      <th>candel_date_time</th>\n",
              "      <th>MACD</th>\n",
              "    </tr>\n",
              "  </thead>\n",
              "  <tbody>\n",
              "    <tr>\n",
              "      <th>19995</th>\n",
              "      <td>2023-02-20 11:00:00</td>\n",
              "      <td>-89300</td>\n",
              "    </tr>\n",
              "    <tr>\n",
              "      <th>19996</th>\n",
              "      <td>2023-02-20 12:00:00</td>\n",
              "      <td>-85000</td>\n",
              "    </tr>\n",
              "    <tr>\n",
              "      <th>19997</th>\n",
              "      <td>2023-02-20 13:00:00</td>\n",
              "      <td>-76800</td>\n",
              "    </tr>\n",
              "    <tr>\n",
              "      <th>19998</th>\n",
              "      <td>2023-02-20 14:00:00</td>\n",
              "      <td>-72400</td>\n",
              "    </tr>\n",
              "    <tr>\n",
              "      <th>19999</th>\n",
              "      <td>2023-02-20 15:00:00</td>\n",
              "      <td>-68100</td>\n",
              "    </tr>\n",
              "  </tbody>\n",
              "</table>\n",
              "</div>\n",
              "      <button class=\"colab-df-convert\" onclick=\"convertToInteractive('df-3950a803-e670-4e5d-a1e3-be64a10bcca9')\"\n",
              "              title=\"Convert this dataframe to an interactive table.\"\n",
              "              style=\"display:none;\">\n",
              "        \n",
              "  <svg xmlns=\"http://www.w3.org/2000/svg\" height=\"24px\"viewBox=\"0 0 24 24\"\n",
              "       width=\"24px\">\n",
              "    <path d=\"M0 0h24v24H0V0z\" fill=\"none\"/>\n",
              "    <path d=\"M18.56 5.44l.94 2.06.94-2.06 2.06-.94-2.06-.94-.94-2.06-.94 2.06-2.06.94zm-11 1L8.5 8.5l.94-2.06 2.06-.94-2.06-.94L8.5 2.5l-.94 2.06-2.06.94zm10 10l.94 2.06.94-2.06 2.06-.94-2.06-.94-.94-2.06-.94 2.06-2.06.94z\"/><path d=\"M17.41 7.96l-1.37-1.37c-.4-.4-.92-.59-1.43-.59-.52 0-1.04.2-1.43.59L10.3 9.45l-7.72 7.72c-.78.78-.78 2.05 0 2.83L4 21.41c.39.39.9.59 1.41.59.51 0 1.02-.2 1.41-.59l7.78-7.78 2.81-2.81c.8-.78.8-2.07 0-2.86zM5.41 20L4 18.59l7.72-7.72 1.47 1.35L5.41 20z\"/>\n",
              "  </svg>\n",
              "      </button>\n",
              "      \n",
              "  <style>\n",
              "    .colab-df-container {\n",
              "      display:flex;\n",
              "      flex-wrap:wrap;\n",
              "      gap: 12px;\n",
              "    }\n",
              "\n",
              "    .colab-df-convert {\n",
              "      background-color: #E8F0FE;\n",
              "      border: none;\n",
              "      border-radius: 50%;\n",
              "      cursor: pointer;\n",
              "      display: none;\n",
              "      fill: #1967D2;\n",
              "      height: 32px;\n",
              "      padding: 0 0 0 0;\n",
              "      width: 32px;\n",
              "    }\n",
              "\n",
              "    .colab-df-convert:hover {\n",
              "      background-color: #E2EBFA;\n",
              "      box-shadow: 0px 1px 2px rgba(60, 64, 67, 0.3), 0px 1px 3px 1px rgba(60, 64, 67, 0.15);\n",
              "      fill: #174EA6;\n",
              "    }\n",
              "\n",
              "    [theme=dark] .colab-df-convert {\n",
              "      background-color: #3B4455;\n",
              "      fill: #D2E3FC;\n",
              "    }\n",
              "\n",
              "    [theme=dark] .colab-df-convert:hover {\n",
              "      background-color: #434B5C;\n",
              "      box-shadow: 0px 1px 3px 1px rgba(0, 0, 0, 0.15);\n",
              "      filter: drop-shadow(0px 1px 2px rgba(0, 0, 0, 0.3));\n",
              "      fill: #FFFFFF;\n",
              "    }\n",
              "  </style>\n",
              "\n",
              "      <script>\n",
              "        const buttonEl =\n",
              "          document.querySelector('#df-3950a803-e670-4e5d-a1e3-be64a10bcca9 button.colab-df-convert');\n",
              "        buttonEl.style.display =\n",
              "          google.colab.kernel.accessAllowed ? 'block' : 'none';\n",
              "\n",
              "        async function convertToInteractive(key) {\n",
              "          const element = document.querySelector('#df-3950a803-e670-4e5d-a1e3-be64a10bcca9');\n",
              "          const dataTable =\n",
              "            await google.colab.kernel.invokeFunction('convertToInteractive',\n",
              "                                                     [key], {});\n",
              "          if (!dataTable) return;\n",
              "\n",
              "          const docLinkHtml = 'Like what you see? Visit the ' +\n",
              "            '<a target=\"_blank\" href=https://colab.research.google.com/notebooks/data_table.ipynb>data table notebook</a>'\n",
              "            + ' to learn more about interactive tables.';\n",
              "          element.innerHTML = '';\n",
              "          dataTable['output_type'] = 'display_data';\n",
              "          await google.colab.output.renderOutput(dataTable, element);\n",
              "          const docLink = document.createElement('div');\n",
              "          docLink.innerHTML = docLinkHtml;\n",
              "          element.appendChild(docLink);\n",
              "        }\n",
              "      </script>\n",
              "    </div>\n",
              "  </div>\n",
              "  "
            ]
          },
          "metadata": {},
          "execution_count": 74
        }
      ]
    },
    {
      "cell_type": "markdown",
      "source": [
        "## 1-2. Data Preprocessing"
      ],
      "metadata": {
        "id": "haOwk3o9XiG5"
      }
    },
    {
      "cell_type": "code",
      "source": [
        "pdf.columns"
      ],
      "metadata": {
        "colab": {
          "base_uri": "https://localhost:8080/"
        },
        "id": "_Yq7ZTLCbnL3",
        "outputId": "8397937c-f7f7-4113-c0a3-7ad18a3f6ed1"
      },
      "execution_count": 49,
      "outputs": [
        {
          "output_type": "execute_result",
          "data": {
            "text/plain": [
              "Index(['candel_date_time', 'open', 'high', 'low', 'close', 'volume'], dtype='object')"
            ]
          },
          "metadata": {},
          "execution_count": 49
        }
      ]
    },
    {
      "cell_type": "code",
      "source": [
        "# 1.보조지표 + 종가 데이터 셋 - cdf\n",
        "cdf = pd.concat([df_list[4]['candel_date_time'],\n",
        "                 df_list[4]['close'],\n",
        "                 df_list[0]['MA_C15H'],\n",
        "                 df_list[1]['MACD'],\n",
        "                 df_list[2]['RSI'],\n",
        "                 df_list[3]['BB+'],\n",
        "                 df_list[3]['BBC'],\n",
        "                 df_list[3]['BB-']], axis = 1)\n",
        "# 2. 가격 데이터셋 - pdf\n",
        "# Way1\n",
        "df_list[4] = df_list[4][['candel_date_time','open', 'high', 'low', 'close', 'volume']]\n",
        "pdf = df_list[4]\n",
        "# Way2\n",
        "# pdf = pd.concat([df_list[0]['candel_date_time'],\n",
        "#                 df_list[0]['open'],\n",
        "#                 df_list[0]['high'],\n",
        "#                 df_list[0]['low'],\n",
        "#                 df_list[0]['close'],\n",
        "#                 df_list[0]['volume']], axis = 1)"
      ],
      "metadata": {
        "id": "gEB4m-mgXrWr"
      },
      "execution_count": 75,
      "outputs": []
    },
    {
      "cell_type": "code",
      "source": [
        "# normalizing data\n",
        "c_scaler = MinMaxScaler()\n",
        "p_scaler = MinMaxScaler()\n",
        "c_scale_cols = ['close', 'MA_C15H', 'MACD', 'RSI', 'BB+', 'BBC','BB-']\n",
        "p_scale_cols = ['open', 'high', 'low', 'close', 'volume']\n",
        "c_scaled = c_scaler.fit_transform(cdf[c_scale_cols])\n",
        "p_scaled = p_scaler.fit_transform(pdf[p_scale_cols])\n",
        "fcdf = pd.DataFrame(c_scaled, columns=c_scale_cols)\n",
        "fpdf = pd.DataFrame(p_scaled, columns=p_scale_cols)"
      ],
      "metadata": {
        "id": "ZJgxZmJScjR_"
      },
      "execution_count": 96,
      "outputs": []
    },
    {
      "cell_type": "code",
      "source": [
        "# Revert normalized data\n",
        "rf_cdf = pd.DataFrame(c_scaler.inverse_transform(fcdf),columns=c_scale_cols)\n",
        "rf_pdf = pd.DataFrame(p_scaler.inverse_transform(fpdf),columns=p_scale_cols)"
      ],
      "metadata": {
        "id": "QRkfZiJAePHG"
      },
      "execution_count": 98,
      "outputs": []
    }
  ],
  "metadata": {
    "kernelspec": {
      "display_name": "base",
      "language": "python",
      "name": "python3"
    },
    "language_info": {
      "name": "python",
      "version": "3.9.13"
    },
    "orig_nbformat": 4,
    "vscode": {
      "interpreter": {
        "hash": "ad2bdc8ecc057115af97d19610ffacc2b4e99fae6737bb82f5d7fb13d2f2c186"
      }
    },
    "colab": {
      "provenance": []
    }
  },
  "nbformat": 4,
  "nbformat_minor": 0
}