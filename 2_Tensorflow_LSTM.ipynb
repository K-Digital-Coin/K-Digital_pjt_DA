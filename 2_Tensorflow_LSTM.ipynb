{
  "cells": [
    {
      "cell_type": "code",
      "execution_count": 27,
      "metadata": {
        "id": "36r88lYgIqo1"
      },
      "outputs": [],
      "source": [
        "import os\n",
        "import pandas as pd\n",
        "import numpy as np\n",
        "import matplotlib.pyplot as plt\n",
        "from google.colab import drive\n",
        "\n",
        "# import tensorflow\n",
        "import tensorflow as tf\n",
        "from tensorflow import keras\n",
        "\n",
        "# import keras\n",
        "from keras.callbacks import EarlyStopping\n",
        "from tensorflow.python.keras.models import load_model\n",
        "from keras.api._v2.keras import activations\n",
        "from keras.engine.sequential import Sequential\n",
        "from tensorflow.keras.layers import LSTM, Dense\n",
        "\n",
        "# import sklearn\n",
        "from sklearn.preprocessing import MinMaxScaler\n",
        "from sklearn.metrics import mean_squared_error"
      ]
    },
    {
      "cell_type": "markdown",
      "source": [
        "# 1. Create Data Set"
      ],
      "metadata": {
        "id": "_7UpxNrSNA9v"
      }
    },
    {
      "cell_type": "markdown",
      "source": [
        "## 1-1. Google Drive connect and files load"
      ],
      "metadata": {
        "id": "Il7VFvwgVGHS"
      }
    },
    {
      "cell_type": "code",
      "source": [
        "drive.mount('/content/drive') # 코랩에서 구글 드라이브에 마운트"
      ],
      "metadata": {
        "colab": {
          "base_uri": "https://localhost:8080/"
        },
        "id": "o5MGxRf2IsxE",
        "outputId": "96c71d52-1367-4c40-b6a8-ebacb4c81878"
      },
      "execution_count": 2,
      "outputs": [
        {
          "output_type": "stream",
          "name": "stdout",
          "text": [
            "Mounted at /content/drive\n"
          ]
        }
      ]
    },
    {
      "cell_type": "code",
      "source": [
        "drive_path = '/content/drive/MyDrive/PNUProject/AIProject/data'\n",
        "file_list = os.listdir(drive_path)\n",
        "file_list"
      ],
      "metadata": {
        "colab": {
          "base_uri": "https://localhost:8080/"
        },
        "id": "5lDWrLSgS8bb",
        "outputId": "63e17fb0-9848-4eb2-ac99-898e96af074f"
      },
      "execution_count": 35,
      "outputs": [
        {
          "output_type": "execute_result",
          "data": {
            "text/plain": [
              "['ma.csv', 'macd.csv', 'rsi.csv', 'bb.csv', 'historydata_v1.csv']"
            ]
          },
          "metadata": {},
          "execution_count": 35
        }
      ]
    },
    {
      "cell_type": "code",
      "source": [
        "df_list = []\n",
        "for i in range(0,len(file_list),1):\n",
        "  path = drive_path + '/' + file_list[i]\n",
        "  data = pd.read_csv(path, encoding='cp949')\n",
        "  path = ''\n",
        "  df_list.append(data)"
      ],
      "metadata": {
        "id": "vyCInySwVYA8"
      },
      "execution_count": 36,
      "outputs": []
    },
    {
      "cell_type": "code",
      "source": [
        "df_list[4].tail()"
      ],
      "metadata": {
        "colab": {
          "base_uri": "https://localhost:8080/",
          "height": 357
        },
        "id": "PuLl2mKaXWT5",
        "outputId": "f9e87c00-3a9f-48bb-c5d3-6225af0cea63"
      },
      "execution_count": 37,
      "outputs": [
        {
          "output_type": "execute_result",
          "data": {
            "text/plain": [
              "             open        high         low       close      volume  \\\n",
              "19995  31436000.0  31497000.0  31312000.0  31469000.0  440.991947   \n",
              "19996  31469000.0  31595000.0  31425000.0  31570000.0  327.507823   \n",
              "19997  31570000.0  31680000.0  31554000.0  31619000.0  280.676325   \n",
              "19998  31603000.0  31640000.0  31520000.0  31582000.0  219.422516   \n",
              "19999  31581000.0  31647000.0  31500000.0  31583000.0  285.113594   \n",
              "\n",
              "          candel_date_time  \n",
              "19995  2023-02-20 11:00:00  \n",
              "19996  2023-02-20 12:00:00  \n",
              "19997  2023-02-20 13:00:00  \n",
              "19998  2023-02-20 14:00:00  \n",
              "19999  2023-02-20 15:00:00  "
            ],
            "text/html": [
              "\n",
              "  <div id=\"df-2b43eb1c-ef35-4f59-bfd5-56dbe953138a\">\n",
              "    <div class=\"colab-df-container\">\n",
              "      <div>\n",
              "<style scoped>\n",
              "    .dataframe tbody tr th:only-of-type {\n",
              "        vertical-align: middle;\n",
              "    }\n",
              "\n",
              "    .dataframe tbody tr th {\n",
              "        vertical-align: top;\n",
              "    }\n",
              "\n",
              "    .dataframe thead th {\n",
              "        text-align: right;\n",
              "    }\n",
              "</style>\n",
              "<table border=\"1\" class=\"dataframe\">\n",
              "  <thead>\n",
              "    <tr style=\"text-align: right;\">\n",
              "      <th></th>\n",
              "      <th>open</th>\n",
              "      <th>high</th>\n",
              "      <th>low</th>\n",
              "      <th>close</th>\n",
              "      <th>volume</th>\n",
              "      <th>candel_date_time</th>\n",
              "    </tr>\n",
              "  </thead>\n",
              "  <tbody>\n",
              "    <tr>\n",
              "      <th>19995</th>\n",
              "      <td>31436000.0</td>\n",
              "      <td>31497000.0</td>\n",
              "      <td>31312000.0</td>\n",
              "      <td>31469000.0</td>\n",
              "      <td>440.991947</td>\n",
              "      <td>2023-02-20 11:00:00</td>\n",
              "    </tr>\n",
              "    <tr>\n",
              "      <th>19996</th>\n",
              "      <td>31469000.0</td>\n",
              "      <td>31595000.0</td>\n",
              "      <td>31425000.0</td>\n",
              "      <td>31570000.0</td>\n",
              "      <td>327.507823</td>\n",
              "      <td>2023-02-20 12:00:00</td>\n",
              "    </tr>\n",
              "    <tr>\n",
              "      <th>19997</th>\n",
              "      <td>31570000.0</td>\n",
              "      <td>31680000.0</td>\n",
              "      <td>31554000.0</td>\n",
              "      <td>31619000.0</td>\n",
              "      <td>280.676325</td>\n",
              "      <td>2023-02-20 13:00:00</td>\n",
              "    </tr>\n",
              "    <tr>\n",
              "      <th>19998</th>\n",
              "      <td>31603000.0</td>\n",
              "      <td>31640000.0</td>\n",
              "      <td>31520000.0</td>\n",
              "      <td>31582000.0</td>\n",
              "      <td>219.422516</td>\n",
              "      <td>2023-02-20 14:00:00</td>\n",
              "    </tr>\n",
              "    <tr>\n",
              "      <th>19999</th>\n",
              "      <td>31581000.0</td>\n",
              "      <td>31647000.0</td>\n",
              "      <td>31500000.0</td>\n",
              "      <td>31583000.0</td>\n",
              "      <td>285.113594</td>\n",
              "      <td>2023-02-20 15:00:00</td>\n",
              "    </tr>\n",
              "  </tbody>\n",
              "</table>\n",
              "</div>\n",
              "      <button class=\"colab-df-convert\" onclick=\"convertToInteractive('df-2b43eb1c-ef35-4f59-bfd5-56dbe953138a')\"\n",
              "              title=\"Convert this dataframe to an interactive table.\"\n",
              "              style=\"display:none;\">\n",
              "        \n",
              "  <svg xmlns=\"http://www.w3.org/2000/svg\" height=\"24px\"viewBox=\"0 0 24 24\"\n",
              "       width=\"24px\">\n",
              "    <path d=\"M0 0h24v24H0V0z\" fill=\"none\"/>\n",
              "    <path d=\"M18.56 5.44l.94 2.06.94-2.06 2.06-.94-2.06-.94-.94-2.06-.94 2.06-2.06.94zm-11 1L8.5 8.5l.94-2.06 2.06-.94-2.06-.94L8.5 2.5l-.94 2.06-2.06.94zm10 10l.94 2.06.94-2.06 2.06-.94-2.06-.94-.94-2.06-.94 2.06-2.06.94z\"/><path d=\"M17.41 7.96l-1.37-1.37c-.4-.4-.92-.59-1.43-.59-.52 0-1.04.2-1.43.59L10.3 9.45l-7.72 7.72c-.78.78-.78 2.05 0 2.83L4 21.41c.39.39.9.59 1.41.59.51 0 1.02-.2 1.41-.59l7.78-7.78 2.81-2.81c.8-.78.8-2.07 0-2.86zM5.41 20L4 18.59l7.72-7.72 1.47 1.35L5.41 20z\"/>\n",
              "  </svg>\n",
              "      </button>\n",
              "      \n",
              "  <style>\n",
              "    .colab-df-container {\n",
              "      display:flex;\n",
              "      flex-wrap:wrap;\n",
              "      gap: 12px;\n",
              "    }\n",
              "\n",
              "    .colab-df-convert {\n",
              "      background-color: #E8F0FE;\n",
              "      border: none;\n",
              "      border-radius: 50%;\n",
              "      cursor: pointer;\n",
              "      display: none;\n",
              "      fill: #1967D2;\n",
              "      height: 32px;\n",
              "      padding: 0 0 0 0;\n",
              "      width: 32px;\n",
              "    }\n",
              "\n",
              "    .colab-df-convert:hover {\n",
              "      background-color: #E2EBFA;\n",
              "      box-shadow: 0px 1px 2px rgba(60, 64, 67, 0.3), 0px 1px 3px 1px rgba(60, 64, 67, 0.15);\n",
              "      fill: #174EA6;\n",
              "    }\n",
              "\n",
              "    [theme=dark] .colab-df-convert {\n",
              "      background-color: #3B4455;\n",
              "      fill: #D2E3FC;\n",
              "    }\n",
              "\n",
              "    [theme=dark] .colab-df-convert:hover {\n",
              "      background-color: #434B5C;\n",
              "      box-shadow: 0px 1px 3px 1px rgba(0, 0, 0, 0.15);\n",
              "      filter: drop-shadow(0px 1px 2px rgba(0, 0, 0, 0.3));\n",
              "      fill: #FFFFFF;\n",
              "    }\n",
              "  </style>\n",
              "\n",
              "      <script>\n",
              "        const buttonEl =\n",
              "          document.querySelector('#df-2b43eb1c-ef35-4f59-bfd5-56dbe953138a button.colab-df-convert');\n",
              "        buttonEl.style.display =\n",
              "          google.colab.kernel.accessAllowed ? 'block' : 'none';\n",
              "\n",
              "        async function convertToInteractive(key) {\n",
              "          const element = document.querySelector('#df-2b43eb1c-ef35-4f59-bfd5-56dbe953138a');\n",
              "          const dataTable =\n",
              "            await google.colab.kernel.invokeFunction('convertToInteractive',\n",
              "                                                     [key], {});\n",
              "          if (!dataTable) return;\n",
              "\n",
              "          const docLinkHtml = 'Like what you see? Visit the ' +\n",
              "            '<a target=\"_blank\" href=https://colab.research.google.com/notebooks/data_table.ipynb>data table notebook</a>'\n",
              "            + ' to learn more about interactive tables.';\n",
              "          element.innerHTML = '';\n",
              "          dataTable['output_type'] = 'display_data';\n",
              "          await google.colab.output.renderOutput(dataTable, element);\n",
              "          const docLink = document.createElement('div');\n",
              "          docLink.innerHTML = docLinkHtml;\n",
              "          element.appendChild(docLink);\n",
              "        }\n",
              "      </script>\n",
              "    </div>\n",
              "  </div>\n",
              "  "
            ]
          },
          "metadata": {},
          "execution_count": 37
        }
      ]
    },
    {
      "cell_type": "markdown",
      "source": [
        "## 1-2. Data Preprocessing"
      ],
      "metadata": {
        "id": "haOwk3o9XiG5"
      }
    },
    {
      "cell_type": "code",
      "source": [
        "# 1.보조지표 + 종가 데이터 셋 - cdf\n",
        "cdf = pd.concat([df_list[4]['candel_date_time'],\n",
        "                 df_list[4]['close'],\n",
        "                 df_list[0]['MA_C15H'],\n",
        "                 df_list[1]['MACD'],\n",
        "                 df_list[2]['RSI'],\n",
        "                 df_list[3]['BB+'],\n",
        "                 df_list[3]['BBC'],\n",
        "                 df_list[3]['BB-']], axis = 1)\n",
        "# 2. 가격 데이터셋 - pdf\n",
        "# Way1\n",
        "df_list[4] = df_list[4][['candel_date_time','open', 'high', 'low', 'close', 'volume']]\n",
        "pdf = df_list[4]\n",
        "# Way2\n",
        "# pdf = pd.concat([df_list[0]['candel_date_time'],\n",
        "#                 df_list[0]['open'],\n",
        "#                 df_list[0]['high'],\n",
        "#                 df_list[0]['low'],\n",
        "#                 df_list[0]['close'],\n",
        "#                 df_list[0]['volume']], axis = 1)"
      ],
      "metadata": {
        "id": "gEB4m-mgXrWr"
      },
      "execution_count": 38,
      "outputs": []
    },
    {
      "cell_type": "code",
      "source": [
        "pdf.tail()"
      ],
      "metadata": {
        "colab": {
          "base_uri": "https://localhost:8080/",
          "height": 357
        },
        "id": "h7XPvXU0fKDf",
        "outputId": "ee996de6-dbde-474f-a726-323a04a07525"
      },
      "execution_count": 13,
      "outputs": [
        {
          "output_type": "execute_result",
          "data": {
            "text/plain": [
              "          candel_date_time        open        high         low       close  \\\n",
              "19995  2023-02-20 11:00:00  31436000.0  31497000.0  31312000.0  31469000.0   \n",
              "19996  2023-02-20 12:00:00  31469000.0  31595000.0  31425000.0  31570000.0   \n",
              "19997  2023-02-20 13:00:00  31570000.0  31680000.0  31554000.0  31619000.0   \n",
              "19998  2023-02-20 14:00:00  31603000.0  31640000.0  31520000.0  31582000.0   \n",
              "19999  2023-02-20 15:00:00  31581000.0  31647000.0  31500000.0  31583000.0   \n",
              "\n",
              "           volume  \n",
              "19995  440.991947  \n",
              "19996  327.507823  \n",
              "19997  280.676325  \n",
              "19998  219.422516  \n",
              "19999  285.113594  "
            ],
            "text/html": [
              "\n",
              "  <div id=\"df-b0993c45-549b-4d51-857a-a686d1739a7c\">\n",
              "    <div class=\"colab-df-container\">\n",
              "      <div>\n",
              "<style scoped>\n",
              "    .dataframe tbody tr th:only-of-type {\n",
              "        vertical-align: middle;\n",
              "    }\n",
              "\n",
              "    .dataframe tbody tr th {\n",
              "        vertical-align: top;\n",
              "    }\n",
              "\n",
              "    .dataframe thead th {\n",
              "        text-align: right;\n",
              "    }\n",
              "</style>\n",
              "<table border=\"1\" class=\"dataframe\">\n",
              "  <thead>\n",
              "    <tr style=\"text-align: right;\">\n",
              "      <th></th>\n",
              "      <th>candel_date_time</th>\n",
              "      <th>open</th>\n",
              "      <th>high</th>\n",
              "      <th>low</th>\n",
              "      <th>close</th>\n",
              "      <th>volume</th>\n",
              "    </tr>\n",
              "  </thead>\n",
              "  <tbody>\n",
              "    <tr>\n",
              "      <th>19995</th>\n",
              "      <td>2023-02-20 11:00:00</td>\n",
              "      <td>31436000.0</td>\n",
              "      <td>31497000.0</td>\n",
              "      <td>31312000.0</td>\n",
              "      <td>31469000.0</td>\n",
              "      <td>440.991947</td>\n",
              "    </tr>\n",
              "    <tr>\n",
              "      <th>19996</th>\n",
              "      <td>2023-02-20 12:00:00</td>\n",
              "      <td>31469000.0</td>\n",
              "      <td>31595000.0</td>\n",
              "      <td>31425000.0</td>\n",
              "      <td>31570000.0</td>\n",
              "      <td>327.507823</td>\n",
              "    </tr>\n",
              "    <tr>\n",
              "      <th>19997</th>\n",
              "      <td>2023-02-20 13:00:00</td>\n",
              "      <td>31570000.0</td>\n",
              "      <td>31680000.0</td>\n",
              "      <td>31554000.0</td>\n",
              "      <td>31619000.0</td>\n",
              "      <td>280.676325</td>\n",
              "    </tr>\n",
              "    <tr>\n",
              "      <th>19998</th>\n",
              "      <td>2023-02-20 14:00:00</td>\n",
              "      <td>31603000.0</td>\n",
              "      <td>31640000.0</td>\n",
              "      <td>31520000.0</td>\n",
              "      <td>31582000.0</td>\n",
              "      <td>219.422516</td>\n",
              "    </tr>\n",
              "    <tr>\n",
              "      <th>19999</th>\n",
              "      <td>2023-02-20 15:00:00</td>\n",
              "      <td>31581000.0</td>\n",
              "      <td>31647000.0</td>\n",
              "      <td>31500000.0</td>\n",
              "      <td>31583000.0</td>\n",
              "      <td>285.113594</td>\n",
              "    </tr>\n",
              "  </tbody>\n",
              "</table>\n",
              "</div>\n",
              "      <button class=\"colab-df-convert\" onclick=\"convertToInteractive('df-b0993c45-549b-4d51-857a-a686d1739a7c')\"\n",
              "              title=\"Convert this dataframe to an interactive table.\"\n",
              "              style=\"display:none;\">\n",
              "        \n",
              "  <svg xmlns=\"http://www.w3.org/2000/svg\" height=\"24px\"viewBox=\"0 0 24 24\"\n",
              "       width=\"24px\">\n",
              "    <path d=\"M0 0h24v24H0V0z\" fill=\"none\"/>\n",
              "    <path d=\"M18.56 5.44l.94 2.06.94-2.06 2.06-.94-2.06-.94-.94-2.06-.94 2.06-2.06.94zm-11 1L8.5 8.5l.94-2.06 2.06-.94-2.06-.94L8.5 2.5l-.94 2.06-2.06.94zm10 10l.94 2.06.94-2.06 2.06-.94-2.06-.94-.94-2.06-.94 2.06-2.06.94z\"/><path d=\"M17.41 7.96l-1.37-1.37c-.4-.4-.92-.59-1.43-.59-.52 0-1.04.2-1.43.59L10.3 9.45l-7.72 7.72c-.78.78-.78 2.05 0 2.83L4 21.41c.39.39.9.59 1.41.59.51 0 1.02-.2 1.41-.59l7.78-7.78 2.81-2.81c.8-.78.8-2.07 0-2.86zM5.41 20L4 18.59l7.72-7.72 1.47 1.35L5.41 20z\"/>\n",
              "  </svg>\n",
              "      </button>\n",
              "      \n",
              "  <style>\n",
              "    .colab-df-container {\n",
              "      display:flex;\n",
              "      flex-wrap:wrap;\n",
              "      gap: 12px;\n",
              "    }\n",
              "\n",
              "    .colab-df-convert {\n",
              "      background-color: #E8F0FE;\n",
              "      border: none;\n",
              "      border-radius: 50%;\n",
              "      cursor: pointer;\n",
              "      display: none;\n",
              "      fill: #1967D2;\n",
              "      height: 32px;\n",
              "      padding: 0 0 0 0;\n",
              "      width: 32px;\n",
              "    }\n",
              "\n",
              "    .colab-df-convert:hover {\n",
              "      background-color: #E2EBFA;\n",
              "      box-shadow: 0px 1px 2px rgba(60, 64, 67, 0.3), 0px 1px 3px 1px rgba(60, 64, 67, 0.15);\n",
              "      fill: #174EA6;\n",
              "    }\n",
              "\n",
              "    [theme=dark] .colab-df-convert {\n",
              "      background-color: #3B4455;\n",
              "      fill: #D2E3FC;\n",
              "    }\n",
              "\n",
              "    [theme=dark] .colab-df-convert:hover {\n",
              "      background-color: #434B5C;\n",
              "      box-shadow: 0px 1px 3px 1px rgba(0, 0, 0, 0.15);\n",
              "      filter: drop-shadow(0px 1px 2px rgba(0, 0, 0, 0.3));\n",
              "      fill: #FFFFFF;\n",
              "    }\n",
              "  </style>\n",
              "\n",
              "      <script>\n",
              "        const buttonEl =\n",
              "          document.querySelector('#df-b0993c45-549b-4d51-857a-a686d1739a7c button.colab-df-convert');\n",
              "        buttonEl.style.display =\n",
              "          google.colab.kernel.accessAllowed ? 'block' : 'none';\n",
              "\n",
              "        async function convertToInteractive(key) {\n",
              "          const element = document.querySelector('#df-b0993c45-549b-4d51-857a-a686d1739a7c');\n",
              "          const dataTable =\n",
              "            await google.colab.kernel.invokeFunction('convertToInteractive',\n",
              "                                                     [key], {});\n",
              "          if (!dataTable) return;\n",
              "\n",
              "          const docLinkHtml = 'Like what you see? Visit the ' +\n",
              "            '<a target=\"_blank\" href=https://colab.research.google.com/notebooks/data_table.ipynb>data table notebook</a>'\n",
              "            + ' to learn more about interactive tables.';\n",
              "          element.innerHTML = '';\n",
              "          dataTable['output_type'] = 'display_data';\n",
              "          await google.colab.output.renderOutput(dataTable, element);\n",
              "          const docLink = document.createElement('div');\n",
              "          docLink.innerHTML = docLinkHtml;\n",
              "          element.appendChild(docLink);\n",
              "        }\n",
              "      </script>\n",
              "    </div>\n",
              "  </div>\n",
              "  "
            ]
          },
          "metadata": {},
          "execution_count": 13
        }
      ]
    },
    {
      "cell_type": "code",
      "source": [
        "# normalizing data\n",
        "c_f_scaler = MinMaxScaler()\n",
        "c_l_scaler = MinMaxScaler()\n",
        "p_f_scaler = MinMaxScaler()\n",
        "p_l_scaler = MinMaxScaler()\n",
        "\n",
        "# normalizing columns setting\n",
        "c_f_scale_cols = ['close', 'MA_C15H', 'MACD', 'RSI', 'BB+', 'BBC','BB-']\n",
        "c_l_scale_cols = ['close']\n",
        "p_f_scale_cols = ['open', 'high', 'low', 'close', 'volume']\n",
        "p_l_scale_cols = ['close']\n",
        "\n",
        "# normalizing used MinMaxScaler\n",
        "c_f_scaled = c_f_scaler.fit_transform(cdf[c_f_scale_cols])\n",
        "c_l_scaled = c_l_scaler.fit_transform(cdf[c_l_scale_cols])\n",
        "p_f_scaled = p_f_scaler.fit_transform(pdf[p_f_scale_cols])\n",
        "p_l_scaled = p_l_scaler.fit_transform(cdf[p_l_scale_cols])\n",
        "\n",
        "# Transform to DataFrame\n",
        "fcdf = pd.DataFrame(c_f_scaled, columns=c_f_scale_cols)\n",
        "lcdf = pd.DataFrame(c_l_scaled, columns=c_l_scale_cols)\n",
        "fpdf = pd.DataFrame(p_f_scaled, columns=p_f_scale_cols)\n",
        "lpdf = pd.DataFrame(p_l_scaled, columns=p_l_scale_cols)"
      ],
      "metadata": {
        "id": "ZJgxZmJScjR_"
      },
      "execution_count": 39,
      "outputs": []
    },
    {
      "cell_type": "code",
      "source": [
        "# define feature and label cols\n",
        "c_feature_cols = ['close', 'MA_C15H', 'MACD', 'RSI', 'BB+', 'BBC','BB-']\n",
        "c_label_col = ['close']\n",
        "p_feature_cols = ['open', 'high', 'low', 'close', 'volume']\n",
        "p_label_col = ['close']\n",
        "\n",
        "# make feature and label DataFrame\n",
        "c_feature_df = pd.DataFrame(fcdf, columns=c_feature_cols)\n",
        "p_feature_df = pd.DataFrame(fpdf, columns=p_feature_cols)\n",
        "c_label_df = pd.DataFrame(lcdf, columns=c_label_col)\n",
        "p_label_df = pd.DataFrame(lpdf, columns=p_label_col)\n",
        "\n",
        "# Transform feature and label to numpy\n",
        "c_feature_np = c_feature_df.to_numpy()\n",
        "p_feature_np = p_feature_df.to_numpy()\n",
        "c_label_np = c_label_df.to_numpy()\n",
        "p_label_np = p_label_df.to_numpy()"
      ],
      "metadata": {
        "id": "v6Qc0QuqfVPY"
      },
      "execution_count": 42,
      "outputs": []
    },
    {
      "cell_type": "markdown",
      "source": [
        "## 1-3. Make Sequene Dataset"
      ],
      "metadata": {
        "id": "WjDN2YG6jItl"
      }
    },
    {
      "cell_type": "code",
      "source": [
        "def make_sequene_dataset(feature, label, window_size=250):\n",
        "  feature_list = []\n",
        "  label_list = []\n",
        "  for i in range(len(feature)-window_size):\n",
        "    feature_list.append(feature[i:i+window_size])\n",
        "    label_list.append(label[i+window_size])\n",
        "  return np.array(feature_list), np.array(label_list)"
      ],
      "metadata": {
        "id": "jJP0hVxyi5xl"
      },
      "execution_count": 50,
      "outputs": []
    },
    {
      "cell_type": "code",
      "source": [
        "cX, cY = make_sequene_dataset(c_feature_np,c_label_np,250)\n",
        "print(cX.shape, cY.shape,'\\n')\n",
        "pX, pY = make_sequene_dataset(p_feature_np,p_label_np,250)\n",
        "print(pX.shape, pY.shape,'\\n')"
      ],
      "metadata": {
        "colab": {
          "base_uri": "https://localhost:8080/"
        },
        "id": "TBD-PTV6k48k",
        "outputId": "9b35049f-93df-4b37-f1f8-20da4674c976"
      },
      "execution_count": 51,
      "outputs": [
        {
          "output_type": "stream",
          "name": "stdout",
          "text": [
            "(19750, 250, 7) (19750, 1) \n",
            "\n",
            "(19750, 250, 5) (19750, 1) \n",
            "\n"
          ]
        }
      ]
    },
    {
      "cell_type": "markdown",
      "source": [
        "# 2. Make Model"
      ],
      "metadata": {
        "id": "bB6kx7IfiqXc"
      }
    },
    {
      "cell_type": "markdown",
      "source": [
        "## 2-1. Train and Test Data Separation"
      ],
      "metadata": {
        "id": "gpvSQJkOmJEb"
      }
    },
    {
      "cell_type": "code",
      "source": [
        "split = - 250\n",
        "cx_train = cX[0:split]\n",
        "cy_train = cY[0:split]\n",
        "cx_test = cX[split:]\n",
        "cy_test = cY[split:]\n",
        "print(cx_train.shape, cy_train.shape)\n",
        "print(cx_test.shape, cy_test.shape,'\\n')\n",
        "px_train = pX[0:split]\n",
        "py_train = pY[0:split]\n",
        "px_test = pX[split:]\n",
        "py_test = pY[split:]\n",
        "print(px_train.shape, py_train.shape)\n",
        "print(px_test.shape, py_test.shape,'\\n')"
      ],
      "metadata": {
        "colab": {
          "base_uri": "https://localhost:8080/"
        },
        "id": "EOMciBL2mcIR",
        "outputId": "6f92f2f6-8fcd-4e66-e141-48d1b55e5502"
      },
      "execution_count": 49,
      "outputs": [
        {
          "output_type": "stream",
          "name": "stdout",
          "text": [
            "(19500, 250, 7) (19500, 1)\n",
            "(250, 250, 7) (250, 1) \n",
            "\n",
            "(19500, 250, 5) (19500, 1)\n",
            "(250, 250, 5) (250, 1) \n",
            "\n"
          ]
        }
      ]
    },
    {
      "cell_type": "markdown",
      "source": [
        "## 2-2. Build Up Model"
      ],
      "metadata": {
        "id": "t1T4dqk7noES"
      }
    },
    {
      "cell_type": "code",
      "source": [
        "# Build up C-Model\n",
        "c_model = Sequential()\n",
        "c_model.add(LSTM(128,activation='tanh',input_shape=cx_train[0].shape))\n",
        "c_model.add(Dense(1, activation='linear'))\n",
        "c_model.summary()"
      ],
      "metadata": {
        "colab": {
          "base_uri": "https://localhost:8080/"
        },
        "id": "KDHyVRjgnzZs",
        "outputId": "43ea45dc-523d-487c-c5fd-b8a096a9abb3"
      },
      "execution_count": 44,
      "outputs": [
        {
          "output_type": "stream",
          "name": "stdout",
          "text": [
            "Model: \"sequential_3\"\n",
            "_________________________________________________________________\n",
            " Layer (type)                Output Shape              Param #   \n",
            "=================================================================\n",
            " lstm_2 (LSTM)               (None, 128)               69632     \n",
            "                                                                 \n",
            " dense_2 (Dense)             (None, 1)                 129       \n",
            "                                                                 \n",
            "=================================================================\n",
            "Total params: 69,761\n",
            "Trainable params: 69,761\n",
            "Non-trainable params: 0\n",
            "_________________________________________________________________\n"
          ]
        }
      ]
    },
    {
      "cell_type": "code",
      "source": [
        "# Build up P-Model\n",
        "p_model = Sequential()\n",
        "p_model.add(LSTM(128,activation='tanh',input_shape=px_train[0].shape))\n",
        "p_model.add(Dense(1, activation='linear'))\n",
        "p_model.summary()"
      ],
      "metadata": {
        "colab": {
          "base_uri": "https://localhost:8080/"
        },
        "id": "Na84XiPapkwq",
        "outputId": "9648ad4f-6df6-47e1-f530-e7ec33aba976"
      },
      "execution_count": 45,
      "outputs": [
        {
          "output_type": "stream",
          "name": "stdout",
          "text": [
            "Model: \"sequential_4\"\n",
            "_________________________________________________________________\n",
            " Layer (type)                Output Shape              Param #   \n",
            "=================================================================\n",
            " lstm_3 (LSTM)               (None, 128)               68608     \n",
            "                                                                 \n",
            " dense_3 (Dense)             (None, 1)                 129       \n",
            "                                                                 \n",
            "=================================================================\n",
            "Total params: 68,737\n",
            "Trainable params: 68,737\n",
            "Non-trainable params: 0\n",
            "_________________________________________________________________\n"
          ]
        }
      ]
    },
    {
      "cell_type": "markdown",
      "source": [
        "## 2-3. Training Model"
      ],
      "metadata": {
        "id": "yABi7t8CqCRb"
      }
    },
    {
      "cell_type": "markdown",
      "source": [
        "### 2-3-1. C-Model"
      ],
      "metadata": {
        "id": "kHd-DrJhqMMY"
      }
    },
    {
      "cell_type": "code",
      "source": [
        "c_model.compile(loss='mse', optimizer='adam', metrics=['mae'])\n",
        "early_stop = EarlyStopping(monitor='val_loss', patience=5)\n",
        "c_model.fit(cx_train, cy_train, validation_data=(cx_test, cy_test), epochs=100, batch_size=64, callbacks=[early_stop])"
      ],
      "metadata": {
        "colab": {
          "base_uri": "https://localhost:8080/"
        },
        "id": "4ZwGCpvbqO-y",
        "outputId": "3ba63dd5-0f84-4138-8def-0cac115c9328"
      },
      "execution_count": 31,
      "outputs": [
        {
          "output_type": "stream",
          "name": "stdout",
          "text": [
            "Epoch 1/100\n",
            "305/305 [==============================] - 131s 420ms/step - loss: 8.8291e-04 - mae: 0.0118 - val_loss: 1.5768e-05 - val_mae: 0.0030\n",
            "Epoch 2/100\n",
            "305/305 [==============================] - 128s 421ms/step - loss: 6.2756e-05 - mae: 0.0053 - val_loss: 1.2797e-05 - val_mae: 0.0026\n",
            "Epoch 3/100\n",
            "305/305 [==============================] - 142s 466ms/step - loss: 5.0749e-05 - mae: 0.0048 - val_loss: 1.2724e-05 - val_mae: 0.0025\n",
            "Epoch 4/100\n",
            "305/305 [==============================] - 142s 467ms/step - loss: 4.6756e-05 - mae: 0.0046 - val_loss: 1.1215e-05 - val_mae: 0.0023\n",
            "Epoch 5/100\n",
            "305/305 [==============================] - 137s 447ms/step - loss: 4.4360e-05 - mae: 0.0045 - val_loss: 1.9260e-05 - val_mae: 0.0033\n",
            "Epoch 6/100\n",
            "305/305 [==============================] - 135s 442ms/step - loss: 4.4164e-05 - mae: 0.0045 - val_loss: 1.0719e-05 - val_mae: 0.0023\n",
            "Epoch 7/100\n",
            "305/305 [==============================] - 135s 443ms/step - loss: 4.3001e-05 - mae: 0.0045 - val_loss: 1.6140e-05 - val_mae: 0.0030\n",
            "Epoch 8/100\n",
            "305/305 [==============================] - 137s 450ms/step - loss: 4.2606e-05 - mae: 0.0045 - val_loss: 1.0002e-05 - val_mae: 0.0022\n",
            "Epoch 9/100\n",
            "305/305 [==============================] - 135s 442ms/step - loss: 3.7827e-05 - mae: 0.0041 - val_loss: 1.0474e-05 - val_mae: 0.0023\n",
            "Epoch 10/100\n",
            "305/305 [==============================] - 131s 430ms/step - loss: 4.2664e-05 - mae: 0.0045 - val_loss: 1.5396e-05 - val_mae: 0.0032\n",
            "Epoch 11/100\n",
            "305/305 [==============================] - 137s 451ms/step - loss: 4.2728e-05 - mae: 0.0046 - val_loss: 2.2028e-05 - val_mae: 0.0040\n",
            "Epoch 12/100\n",
            "305/305 [==============================] - 137s 449ms/step - loss: 4.2096e-05 - mae: 0.0045 - val_loss: 2.0512e-05 - val_mae: 0.0036\n",
            "Epoch 13/100\n",
            "305/305 [==============================] - 136s 447ms/step - loss: 3.8592e-05 - mae: 0.0043 - val_loss: 1.0494e-05 - val_mae: 0.0024\n"
          ]
        },
        {
          "output_type": "execute_result",
          "data": {
            "text/plain": [
              "<keras.callbacks.History at 0x7f1f03155c10>"
            ]
          },
          "metadata": {},
          "execution_count": 31
        }
      ]
    },
    {
      "cell_type": "code",
      "source": [
        "p_model.compile(loss='mse', optimizer='adam', metrics=['mae'])\n",
        "early_stop = EarlyStopping(monitor='val_loss', patience=5)\n",
        "p_model.fit(px_train, py_train, validation_data=(px_test, py_test), epochs=100, batch_size=64, callbacks=[early_stop])"
      ],
      "metadata": {
        "colab": {
          "base_uri": "https://localhost:8080/"
        },
        "id": "dQXv6gf48SIn",
        "outputId": "92473cde-a681-4fe0-815a-434d73c965fb"
      },
      "execution_count": 52,
      "outputs": [
        {
          "output_type": "stream",
          "name": "stdout",
          "text": [
            "Epoch 1/100\n",
            "305/305 [==============================] - 142s 458ms/step - loss: 0.0020 - mae: 0.0156 - val_loss: 3.9946e-05 - val_mae: 0.0043\n",
            "Epoch 2/100\n",
            "305/305 [==============================] - 139s 454ms/step - loss: 9.5084e-05 - mae: 0.0063 - val_loss: 2.6469e-05 - val_mae: 0.0029\n",
            "Epoch 3/100\n",
            "305/305 [==============================] - 143s 466ms/step - loss: 8.9003e-05 - mae: 0.0061 - val_loss: 2.3564e-05 - val_mae: 0.0028\n",
            "Epoch 4/100\n",
            "305/305 [==============================] - 140s 460ms/step - loss: 8.3162e-05 - mae: 0.0059 - val_loss: 2.2128e-05 - val_mae: 0.0027\n",
            "Epoch 5/100\n",
            "305/305 [==============================] - 140s 460ms/step - loss: 7.8006e-05 - mae: 0.0057 - val_loss: 2.4452e-05 - val_mae: 0.0033\n",
            "Epoch 6/100\n",
            "305/305 [==============================] - 136s 446ms/step - loss: 7.2805e-05 - mae: 0.0055 - val_loss: 1.7591e-05 - val_mae: 0.0027\n",
            "Epoch 7/100\n",
            "305/305 [==============================] - 134s 439ms/step - loss: 6.6911e-05 - mae: 0.0053 - val_loss: 1.9591e-05 - val_mae: 0.0033\n",
            "Epoch 8/100\n",
            "305/305 [==============================] - 139s 457ms/step - loss: 6.3665e-05 - mae: 0.0052 - val_loss: 2.7075e-05 - val_mae: 0.0040\n",
            "Epoch 9/100\n",
            "305/305 [==============================] - 141s 463ms/step - loss: 6.1823e-05 - mae: 0.0051 - val_loss: 1.4862e-05 - val_mae: 0.0023\n",
            "Epoch 10/100\n",
            "305/305 [==============================] - 141s 464ms/step - loss: 5.7397e-05 - mae: 0.0049 - val_loss: 1.7427e-05 - val_mae: 0.0029\n",
            "Epoch 11/100\n",
            "305/305 [==============================] - 142s 466ms/step - loss: 5.3600e-05 - mae: 0.0048 - val_loss: 1.2889e-05 - val_mae: 0.0023\n",
            "Epoch 12/100\n",
            "305/305 [==============================] - 142s 465ms/step - loss: 5.1182e-05 - mae: 0.0046 - val_loss: 1.1036e-05 - val_mae: 0.0019\n",
            "Epoch 13/100\n",
            "305/305 [==============================] - 142s 467ms/step - loss: 4.7770e-05 - mae: 0.0045 - val_loss: 1.5603e-05 - val_mae: 0.0028\n",
            "Epoch 14/100\n",
            "305/305 [==============================] - 140s 459ms/step - loss: 4.9137e-05 - mae: 0.0046 - val_loss: 1.2863e-05 - val_mae: 0.0023\n",
            "Epoch 15/100\n",
            "305/305 [==============================] - 142s 465ms/step - loss: 4.4931e-05 - mae: 0.0044 - val_loss: 9.6486e-06 - val_mae: 0.0018\n",
            "Epoch 16/100\n",
            "305/305 [==============================] - 142s 466ms/step - loss: 4.1445e-05 - mae: 0.0042 - val_loss: 8.7895e-06 - val_mae: 0.0017\n",
            "Epoch 17/100\n",
            "305/305 [==============================] - 141s 463ms/step - loss: 4.0631e-05 - mae: 0.0042 - val_loss: 8.5847e-06 - val_mae: 0.0017\n",
            "Epoch 18/100\n",
            "305/305 [==============================] - 142s 467ms/step - loss: 4.0221e-05 - mae: 0.0042 - val_loss: 1.1238e-05 - val_mae: 0.0025\n",
            "Epoch 19/100\n",
            "305/305 [==============================] - 142s 464ms/step - loss: 3.8206e-05 - mae: 0.0041 - val_loss: 9.1217e-06 - val_mae: 0.0020\n",
            "Epoch 20/100\n",
            "305/305 [==============================] - 137s 450ms/step - loss: 3.7770e-05 - mae: 0.0040 - val_loss: 7.4638e-06 - val_mae: 0.0016\n",
            "Epoch 21/100\n",
            "305/305 [==============================] - 140s 460ms/step - loss: 3.6838e-05 - mae: 0.0040 - val_loss: 7.7319e-06 - val_mae: 0.0017\n",
            "Epoch 22/100\n",
            "305/305 [==============================] - 142s 467ms/step - loss: 3.4589e-05 - mae: 0.0039 - val_loss: 9.0529e-06 - val_mae: 0.0020\n",
            "Epoch 23/100\n",
            "305/305 [==============================] - 139s 455ms/step - loss: 3.3548e-05 - mae: 0.0038 - val_loss: 6.9530e-06 - val_mae: 0.0015\n",
            "Epoch 24/100\n",
            "305/305 [==============================] - 138s 452ms/step - loss: 3.3524e-05 - mae: 0.0038 - val_loss: 9.5753e-06 - val_mae: 0.0022\n",
            "Epoch 25/100\n",
            "305/305 [==============================] - 145s 475ms/step - loss: 3.1529e-05 - mae: 0.0037 - val_loss: 8.2628e-06 - val_mae: 0.0019\n",
            "Epoch 26/100\n",
            "305/305 [==============================] - 140s 460ms/step - loss: 3.2921e-05 - mae: 0.0038 - val_loss: 6.6632e-06 - val_mae: 0.0016\n",
            "Epoch 27/100\n",
            "305/305 [==============================] - 137s 450ms/step - loss: 3.3281e-05 - mae: 0.0038 - val_loss: 6.7902e-06 - val_mae: 0.0016\n",
            "Epoch 28/100\n",
            "305/305 [==============================] - 142s 465ms/step - loss: 3.1115e-05 - mae: 0.0036 - val_loss: 6.5845e-06 - val_mae: 0.0016\n",
            "Epoch 29/100\n",
            "305/305 [==============================] - 143s 467ms/step - loss: 3.2456e-05 - mae: 0.0038 - val_loss: 1.0989e-05 - val_mae: 0.0026\n",
            "Epoch 30/100\n",
            "305/305 [==============================] - 143s 469ms/step - loss: 3.1337e-05 - mae: 0.0037 - val_loss: 1.0093e-05 - val_mae: 0.0024\n",
            "Epoch 31/100\n",
            "305/305 [==============================] - 142s 463ms/step - loss: 3.0779e-05 - mae: 0.0036 - val_loss: 7.5778e-06 - val_mae: 0.0019\n",
            "Epoch 32/100\n",
            "305/305 [==============================] - 142s 463ms/step - loss: 2.9506e-05 - mae: 0.0035 - val_loss: 1.2230e-05 - val_mae: 0.0027\n",
            "Epoch 33/100\n",
            "305/305 [==============================] - 137s 450ms/step - loss: 2.9184e-05 - mae: 0.0035 - val_loss: 6.4591e-06 - val_mae: 0.0015\n",
            "Epoch 34/100\n",
            "305/305 [==============================] - 137s 449ms/step - loss: 3.0630e-05 - mae: 0.0036 - val_loss: 6.3961e-06 - val_mae: 0.0016\n",
            "Epoch 35/100\n",
            "305/305 [==============================] - 138s 453ms/step - loss: 3.0541e-05 - mae: 0.0036 - val_loss: 7.8988e-06 - val_mae: 0.0020\n",
            "Epoch 36/100\n",
            "305/305 [==============================] - 139s 458ms/step - loss: 2.8985e-05 - mae: 0.0035 - val_loss: 8.1906e-06 - val_mae: 0.0020\n",
            "Epoch 37/100\n",
            "305/305 [==============================] - 137s 448ms/step - loss: 3.0475e-05 - mae: 0.0036 - val_loss: 1.1668e-05 - val_mae: 0.0027\n",
            "Epoch 38/100\n",
            "305/305 [==============================] - 141s 463ms/step - loss: 2.8593e-05 - mae: 0.0034 - val_loss: 6.9492e-06 - val_mae: 0.0017\n",
            "Epoch 39/100\n",
            "305/305 [==============================] - 142s 465ms/step - loss: 2.9789e-05 - mae: 0.0035 - val_loss: 6.7146e-06 - val_mae: 0.0015\n"
          ]
        },
        {
          "output_type": "execute_result",
          "data": {
            "text/plain": [
              "<keras.callbacks.History at 0x7f1ef256e490>"
            ]
          },
          "metadata": {},
          "execution_count": 52
        }
      ]
    },
    {
      "cell_type": "code",
      "source": [
        "c_model.save('c_model.h5')\n",
        "p_model.save('p_model.h5')"
      ],
      "metadata": {
        "colab": {
          "base_uri": "https://localhost:8080/"
        },
        "id": "7Z7p3Y1PRyj7",
        "outputId": "912e5276-f354-4a79-ea5c-907025d4ab3d"
      },
      "execution_count": 55,
      "outputs": [
        {
          "output_type": "stream",
          "name": "stderr",
          "text": [
            "WARNING:tensorflow:Compiled the loaded model, but the compiled metrics have yet to be built. `model.compile_metrics` will be empty until you train or evaluate the model.\n"
          ]
        }
      ]
    },
    {
      "cell_type": "markdown",
      "source": [
        "# 3. Predic Price"
      ],
      "metadata": {
        "id": "lAbSx6IE0Bmc"
      }
    },
    {
      "cell_type": "code",
      "source": [
        "# predic C-Model\n",
        "c_pred = c_model.predict(cx_test)\n",
        "\n",
        "plt.figure(figsize=(12, 6))\n",
        "plt.title('Predic Price')\n",
        "plt.xlabel('period')\n",
        "plt.ylabel('close price')\n",
        "plt.plot(cy_test, label='actual')\n",
        "plt.plot(c_pred, label='prediction')\n",
        "plt.grid()\n",
        "plt.legend(loc='best')\n",
        "\n",
        "plt.show()"
      ],
      "metadata": {
        "colab": {
          "base_uri": "https://localhost:8080/",
          "height": 370
        },
        "id": "oh5niKkYz7as",
        "outputId": "03d72a41-b978-42fe-940d-f1e695403204"
      },
      "execution_count": 34,
      "outputs": [
        {
          "output_type": "stream",
          "name": "stdout",
          "text": [
            "8/8 [==============================] - 1s 106ms/step\n"
          ]
        },
        {
          "output_type": "display_data",
          "data": {
            "text/plain": [
              "<Figure size 864x432 with 1 Axes>"
            ],
            "image/png": "[encoded data removed]"
          },
          "metadata": {
            "needs_background": "light"
          }
        }
      ]
    },
    {
      "cell_type": "code",
      "source": [
        "# Revert normalized predic and actual data\n",
        "rf_c_pred = pd.DataFrame(c_l_scaler.inverse_transform(c_pred),columns=['pred_close'])\n",
        "rf_c_test = pd.DataFrame(c_l_scaler.inverse_transform(cy_test),columns=['actual_close'])\n",
        "\n",
        "plt.figure(figsize=(12, 6))\n",
        "plt.title('Predic and Actual Price')\n",
        "plt.xlabel('period')\n",
        "plt.ylabel('close price')\n",
        "plt.plot(cy_test, label='actual')\n",
        "plt.plot(c_pred, label='prediction')\n",
        "plt.grid()\n",
        "plt.legend(loc='best')\n",
        "\n",
        "plt.show()"
      ],
      "metadata": {
        "id": "QRkfZiJAePHG"
      },
      "execution_count": 53,
      "outputs": []
    },
    {
      "cell_type": "code",
      "source": [],
      "metadata": {
        "id": "CILoBh2z-zZI"
      },
      "execution_count": null,
      "outputs": []
    }
  ],
  "metadata": {
    "kernelspec": {
      "display_name": "base",
      "language": "python",
      "name": "python3"
    },
    "language_info": {
      "name": "python",
      "version": "3.9.13"
    },
    "orig_nbformat": 4,
    "vscode": {
      "interpreter": {
        "hash": "ad2bdc8ecc057115af97d19610ffacc2b4e99fae6737bb82f5d7fb13d2f2c186"
      }
    },
    "colab": {
      "provenance": []
    }
  },
  "nbformat": 4,
  "nbformat_minor": 0
}