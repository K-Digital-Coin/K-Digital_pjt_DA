{
 "cells": [
  {
   "cell_type": "code",
   "execution_count": 1,
   "metadata": {},
   "outputs": [],
   "source": [
    "import pandas as pd\n",
    "import requests\n",
    "import time"
   ]
  },
  {
   "attachments": {},
   "cell_type": "markdown",
   "metadata": {},
   "source": [
    "# 1. MACD"
   ]
  },
  {
   "cell_type": "code",
   "execution_count": 3,
   "metadata": {},
   "outputs": [],
   "source": [
    "def MACD(tradePrice):\n",
    "    exp12 = tradePrice.ewm(span=12, adjust=False).mean()\n",
    "    exp26 = tradePrice.ewm(span=26, adjust=False).mean()\n",
    "    macd = exp12 - exp26\n",
    "    exp= macd.ewm(span=9, adjust=False).mean()\n",
    "    return exp"
   ]
  },
  {
   "cell_type": "code",
   "execution_count": 7,
   "metadata": {},
   "outputs": [
    {
     "name": "stdout",
     "output_type": "stream",
     "text": [
      "1002125.730514349\n"
     ]
    }
   ],
   "source": [
    "if __name__ == \"__main__\":\n",
    "    url = \"https://api.upbit.com/v1/candles/days\"\n",
    "    querystring = {\"market\":\"KRW-BTC\", \"count\":\"200\"}\n",
    "\n",
    "    response = requests.request(\"GET\",url,params=querystring)\n",
    "    data = response.json()\n",
    "\n",
    "    df = pd.DataFrame(data)\n",
    "    df = df.iloc[::-1]\n",
    "\n",
    "    macd = MACD(df['trade_price'])\n",
    "    print(macd[0])"
   ]
  },
  {
   "attachments": {},
   "cell_type": "markdown",
   "metadata": {},
   "source": [
    "# 2. RSI"
   ]
  },
  {
   "cell_type": "code",
   "execution_count": 10,
   "metadata": {},
   "outputs": [],
   "source": [
    "def rsi(ohlc: pd.DataFrame, period: int = 14):\n",
    "    ohlc['trade_price'] = ohlc['trade_price']\n",
    "    # delta 함수에 차분을 계산하여 저장한다.\n",
    "    delta = ohlc['trade_price'].diff()\n",
    "    gains, declines = delta.copy(), delta.copy()\n",
    "    gains[gains < 0] = 0\n",
    "    declines[declines > 0] = 0\n",
    "    _gain = gains.ewm(com=(period - 1), min_periods=period).mean()\n",
    "    _loss = declines.abs().ewm(com=(period - 1), min_periods=period).mean()\n",
    "\n",
    "    RS = _gain / _loss\n",
    "    return pd.Series(100 - (100 / (1 + RS)), name=\"RSI\")"
   ]
  },
  {
   "cell_type": "code",
   "execution_count": 12,
   "metadata": {},
   "outputs": [
    {
     "name": "stdout",
     "output_type": "stream",
     "text": [
      "현재 rsi : 55.99173771320481\n"
     ]
    }
   ],
   "source": [
    "url = \"https://api.upbit.com/v1/candles/minutes/60\"\n",
    "querystring = {\"market\":\"KRW-BTC\", \"count\":\"200\"}\n",
    "response = requests.request(\"GET\", url, params=querystring)\n",
    "data = response.json()\n",
    "df = pd.DataFrame(data)\n",
    "df = df.reindex(index=df.index[::-1]).reset_index()\n",
    "nrsi = rsi(df,14).iloc[-1]\n",
    "print('현재 rsi : ' + str(nrsi))\n",
    "\n"
   ]
  }
 ],
 "metadata": {
  "kernelspec": {
   "display_name": "base",
   "language": "python",
   "name": "python3"
  },
  "language_info": {
   "codemirror_mode": {
    "name": "ipython",
    "version": 3
   },
   "file_extension": ".py",
   "mimetype": "text/x-python",
   "name": "python",
   "nbconvert_exporter": "python",
   "pygments_lexer": "ipython3",
   "version": "3.9.13"
  },
  "orig_nbformat": 4,
  "vscode": {
   "interpreter": {
    "hash": "ad2bdc8ecc057115af97d19610ffacc2b4e99fae6737bb82f5d7fb13d2f2c186"
   }
  }
 },
 "nbformat": 4,
 "nbformat_minor": 2
}
