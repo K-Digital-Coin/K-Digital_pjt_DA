{
 "cells": [
  {
   "cell_type": "code",
   "execution_count": 1,
   "metadata": {},
   "outputs": [],
   "source": [
    "import pandas as pd\n",
    "import requests"
   ]
  },
  {
   "cell_type": "code",
   "execution_count": 2,
   "metadata": {},
   "outputs": [],
   "source": [
    "def MACD(tradePrice):\n",
    "    exp12 = tradePrice.ewm(span=12, adjust=False).mean()\n",
    "    exp26 = tradePrice.ewm(span=26, adjust=False).mean()\n",
    "    macd = exp12 - exp26\n",
    "    exp= macd.ewm(span=9, adjust=False).mean()\n",
    "    return exp"
   ]
  },
  {
   "cell_type": "code",
   "execution_count": 7,
   "metadata": {},
   "outputs": [
    {
     "name": "stdout",
     "output_type": "stream",
     "text": [
      "1002125.730514349\n"
     ]
    }
   ],
   "source": [
    "if __name__ == \"__main__\":\n",
    "    url = \"https://api.upbit.com/v1/candles/days\"\n",
    "    querystring = {\"market\":\"KRW-BTC\", \"count\":\"200\"}\n",
    "\n",
    "    response = requests.request(\"GET\",url,params=querystring)\n",
    "    data = response.json()\n",
    "\n",
    "    df = pd.DataFrame(data)\n",
    "    df = df.iloc[::-1]\n",
    "\n",
    "    macd = MACD(df['trade_price'])\n",
    "    print(macd[0])"
   ]
  }
 ],
 "metadata": {
  "kernelspec": {
   "display_name": "base",
   "language": "python",
   "name": "python3"
  },
  "language_info": {
   "codemirror_mode": {
    "name": "ipython",
    "version": 3
   },
   "file_extension": ".py",
   "mimetype": "text/x-python",
   "name": "python",
   "nbconvert_exporter": "python",
   "pygments_lexer": "ipython3",
   "version": "3.9.13"
  },
  "orig_nbformat": 4,
  "vscode": {
   "interpreter": {
    "hash": "ad2bdc8ecc057115af97d19610ffacc2b4e99fae6737bb82f5d7fb13d2f2c186"
   }
  }
 },
 "nbformat": 4,
 "nbformat_minor": 2
}
